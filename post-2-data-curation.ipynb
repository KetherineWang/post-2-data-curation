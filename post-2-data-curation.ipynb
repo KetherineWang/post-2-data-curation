{
 "cells": [
  {
   "cell_type": "code",
   "execution_count": 2,
   "metadata": {},
   "outputs": [],
   "source": [
    "import requests\n",
    "\n",
    "with open(\"omdb_apikey.txt\", \"r\") as file:\n",
    "    omdb_apikey = file.read().strip()\n",
    "\n",
    "# http://www.omdbapi.com/?apikey=YOURAPIKEYHERE&t=MOVIETITLEHERE&type=movie&plot=full\n",
    "omdb_base_url = \"http://www.omdbapi.com/\"\n",
    "\n",
    "params = {\n",
    "    \"apikey\": omdb_apikey,\n",
    "    \"t\": \"La La Land\"\n",
    "}\n",
    "\n",
    "omdb_response = requests.get(omdb_base_url, params=params)\n"
   ]
  },
  {
   "cell_type": "code",
   "execution_count": 3,
   "metadata": {},
   "outputs": [
    {
     "data": {
      "text/plain": [
       "200"
      ]
     },
     "execution_count": 3,
     "metadata": {},
     "output_type": "execute_result"
    }
   ],
   "source": [
    "omdb_response.status_code"
   ]
  },
  {
   "cell_type": "code",
   "execution_count": 4,
   "metadata": {},
   "outputs": [
    {
     "data": {
      "text/plain": [
       "{'Title': 'La La Land',\n",
       " 'Year': '2016',\n",
       " 'Rated': 'PG-13',\n",
       " 'Released': '25 Dec 2016',\n",
       " 'Runtime': '128 min',\n",
       " 'Genre': 'Comedy, Drama, Music',\n",
       " 'Director': 'Damien Chazelle',\n",
       " 'Writer': 'Damien Chazelle',\n",
       " 'Actors': 'Ryan Gosling, Emma Stone, Rosemarie DeWitt',\n",
       " 'Plot': 'When Sebastian, a pianist, and Mia, an actress, follow their passion and achieve success in their respective fields, they find themselves torn between their love for each other and their careers.',\n",
       " 'Language': 'English, Cantonese',\n",
       " 'Country': 'United States, Hong Kong',\n",
       " 'Awards': 'Won 6 Oscars. 242 wins & 307 nominations total',\n",
       " 'Poster': 'https://m.media-amazon.com/images/M/MV5BMzUzNDM2NzM2MV5BMl5BanBnXkFtZTgwNTM3NTg4OTE@._V1_SX300.jpg',\n",
       " 'Ratings': [{'Source': 'Internet Movie Database', 'Value': '8.0/10'},\n",
       "  {'Source': 'Rotten Tomatoes', 'Value': '91%'},\n",
       "  {'Source': 'Metacritic', 'Value': '94/100'}],\n",
       " 'Metascore': '94',\n",
       " 'imdbRating': '8.0',\n",
       " 'imdbVotes': '693,799',\n",
       " 'imdbID': 'tt3783958',\n",
       " 'Type': 'movie',\n",
       " 'DVD': 'N/A',\n",
       " 'BoxOffice': '$151,101,803',\n",
       " 'Production': 'N/A',\n",
       " 'Website': 'N/A',\n",
       " 'Response': 'True'}"
      ]
     },
     "execution_count": 4,
     "metadata": {},
     "output_type": "execute_result"
    }
   ],
   "source": [
    "omdb_response.json()"
   ]
  }
 ],
 "metadata": {
  "kernelspec": {
   "display_name": "stat386",
   "language": "python",
   "name": "python3"
  },
  "language_info": {
   "codemirror_mode": {
    "name": "ipython",
    "version": 3
   },
   "file_extension": ".py",
   "mimetype": "text/x-python",
   "name": "python",
   "nbconvert_exporter": "python",
   "pygments_lexer": "ipython3",
   "version": "3.12.5"
  }
 },
 "nbformat": 4,
 "nbformat_minor": 2
}
